{
 "cells": [
  {
   "cell_type": "code",
   "execution_count": 58,
   "metadata": {},
   "outputs": [],
   "source": [
    "import requests\n",
    "from lxml import etree, html\n",
    "import json, pandas as pd\n",
    "import pandasql as ps\n",
    "import sys\n",
    "# 메모리 초기화\n",
    "sys.stdout.flush()"
   ]
  },
  {
   "cell_type": "markdown",
   "metadata": {},
   "source": [
    "# 서울 날씨"
   ]
  },
  {
   "cell_type": "code",
   "execution_count": 59,
   "metadata": {},
   "outputs": [],
   "source": [
    "import requests\n",
    "# Class 대상\n",
    "# 기상청 기상자료개발포털 default_path\n",
    "default_path = 'https://data.kma.go.kr/apiData/getData?'\n",
    "sep = '&' #separator\n",
    "api_type = 'type=json' # xml\n",
    "data_type = 'dataCd=ASOS' # ASOS\n",
    "date_type = 'dateCd=DAY'  # days\n",
    "start_date = 'startDt=20160101' # start\n",
    "end_date = 'endDt=20190430'     # end\n",
    "station = 'stnIds=108'          # seoul\n",
    "cnt = 'schListCnt=999'          # page by (max) \n",
    "# cnt = 'schListCnt=10'          # page by (max) \n",
    "page = 'pageIndex='            # page by count\n",
    "api_key = 'apiKey=4ffqyhUjxE9zcWp0lJDsyI2Jam%2B6nJXYbx%2Bfn2t/6rTqceF0JPWs7gwV5dV39Vqn' # private api key"
   ]
  },
  {
   "cell_type": "code",
   "execution_count": null,
   "metadata": {},
   "outputs": [],
   "source": []
  },
  {
   "cell_type": "code",
   "execution_count": 65,
   "metadata": {},
   "outputs": [
    {
     "name": "stdout",
     "output_type": "stream",
     "text": [
      "https://data.kma.go.kr/apiData/getData?type=json&dataCd=ASOS&dateCd=DAY&startDt=20160101&endDt=20190430&stnIds=108&schListCnt=999&pageIndex=&apiKey=4ffqyhUjxE9zcWp0lJDsyI2Jam%2B6nJXYbx%2Bfn2t/6rTqceF0JPWs7gwV5dV39Vqn\n"
     ]
    }
   ],
   "source": [
    "# Test \n",
    "print(default_path + api_type + sep + data_type + sep + date_type + sep + start_date + sep + end_date + sep + station + sep + cnt + sep + page + sep + api_key)"
   ]
  },
  {
   "cell_type": "markdown",
   "metadata": {},
   "source": [
    "## Contents"
   ]
  },
  {
   "cell_type": "code",
   "execution_count": 61,
   "metadata": {},
   "outputs": [
    {
     "name": "stderr",
     "output_type": "stream",
     "text": [
      "C:\\Users\\HIT\\Anaconda3\\lib\\site-packages\\urllib3\\connectionpool.py:847: InsecureRequestWarning: Unverified HTTPS request is being made. Adding certificate verification is strongly advised. See: https://urllib3.readthedocs.io/en/latest/advanced-usage.html#ssl-warnings\n",
      "  InsecureRequestWarning)\n",
      "C:\\Users\\HIT\\Anaconda3\\lib\\site-packages\\urllib3\\connectionpool.py:847: InsecureRequestWarning: Unverified HTTPS request is being made. Adding certificate verification is strongly advised. See: https://urllib3.readthedocs.io/en/latest/advanced-usage.html#ssl-warnings\n",
      "  InsecureRequestWarning)\n"
     ]
    }
   ],
   "source": [
    "# 2개만 추출\n",
    "for calen in range(1,3) :\n",
    "    \n",
    "    # 서울 2년 4개월 간 날씨 Import\n",
    "    response = requests.get(default_path + api_type + sep + data_type + sep + date_type + sep + start_date + sep + end_date + sep +\n",
    "                        station + sep + cnt + sep + page + str(calen) + sep + api_key , verify=False)\n",
    "    \n",
    "    # json Import\n",
    "    seoul_weather = json.loads(response.text)\n",
    "    seoul_httpcd = seoul_weather[0]['status']\n",
    "    seoul_status = seoul_weather[1]['msg']\n",
    "    seoul_station = seoul_weather[2]['stnIds']\n",
    "\n",
    "    # 원 소스\n",
    "    # seoul_weather[3]['info'][0]0\n",
    "    # 처음 API를 호출하는 경우\n",
    "    if calen == 1 :\n",
    "        seoul_df = pd.DataFrame(seoul_weather[3]['info'])\n",
    "        seoul_df['seoul_httpcd'] = seoul_httpcd\n",
    "        seoul_df['seoul_status'] = seoul_status\n",
    "        seoul_df['seoul_station'] = seoul_station\n",
    "    # 처음 API를 호출하는 것이 아닌 경우\n",
    "    else :\n",
    "        seoul_df2 = pd.DataFrame(seoul_weather[3]['info'])\n",
    "        seoul_df2['seoul_httpcd'] = seoul_httpcd\n",
    "        seoul_df2['seoul_status'] = seoul_status\n",
    "        seoul_df2['seoul_station'] = seoul_station\n",
    "        \n",
    "#         seoul_df = pd.merge(seoul_df, seoul_df2)"
   ]
  },
  {
   "cell_type": "code",
   "execution_count": 64,
   "metadata": {},
   "outputs": [
    {
     "name": "stdout",
     "output_type": "stream",
     "text": [
      "Seoul_df1 Rows : 1216 Columns : 66\n",
      "Seoul_df2 Rows : 217 Columns : 66\n"
     ]
    }
   ],
   "source": [
    "print('Seoul_df1 Rows :', seoul_df.shape[0], 'Columns :', seoul_df.shape[1])\n",
    "print('Seoul_df2 Rows :', seoul_df2.shape[0], 'Columns :', seoul_df2.shape[1])"
   ]
  },
  {
   "cell_type": "code",
   "execution_count": 63,
   "metadata": {},
   "outputs": [
    {
     "name": "stdout",
     "output_type": "stream",
     "text": [
      "Seoul_df Rows : 1216 Columns : 66\n"
     ]
    },
    {
     "data": {
      "text/html": [
       "<div>\n",
       "<style scoped>\n",
       "    .dataframe tbody tr th:only-of-type {\n",
       "        vertical-align: middle;\n",
       "    }\n",
       "\n",
       "    .dataframe tbody tr th {\n",
       "        vertical-align: top;\n",
       "    }\n",
       "\n",
       "    .dataframe thead th {\n",
       "        text-align: right;\n",
       "    }\n",
       "</style>\n",
       "<table border=\"1\" class=\"dataframe\">\n",
       "  <thead>\n",
       "    <tr style=\"text-align: right;\">\n",
       "      <th></th>\n",
       "      <th>AVG_CM10_TE</th>\n",
       "      <th>AVG_CM20_TE</th>\n",
       "      <th>AVG_CM30_TE</th>\n",
       "      <th>AVG_CM5_TE</th>\n",
       "      <th>AVG_LMAC</th>\n",
       "      <th>AVG_M0_5_TE</th>\n",
       "      <th>AVG_M1_0_TE</th>\n",
       "      <th>AVG_M1_5_TE</th>\n",
       "      <th>AVG_M3_0_TE</th>\n",
       "      <th>AVG_M5_0_TE</th>\n",
       "      <th>...</th>\n",
       "      <th>SUM_GSR</th>\n",
       "      <th>SUM_LRG_EV</th>\n",
       "      <th>SUM_RN</th>\n",
       "      <th>SUM_RN_DUR</th>\n",
       "      <th>SUM_SML_EV</th>\n",
       "      <th>SUM_SS_HR</th>\n",
       "      <th>TM</th>\n",
       "      <th>seoul_httpcd</th>\n",
       "      <th>seoul_status</th>\n",
       "      <th>seoul_station</th>\n",
       "    </tr>\n",
       "  </thead>\n",
       "  <tbody>\n",
       "    <tr>\n",
       "      <th>0</th>\n",
       "      <td>0.3</td>\n",
       "      <td>1.5</td>\n",
       "      <td>2.0</td>\n",
       "      <td>0.1</td>\n",
       "      <td>7.0</td>\n",
       "      <td>3.7</td>\n",
       "      <td>7.3</td>\n",
       "      <td>10.0</td>\n",
       "      <td>15.5</td>\n",
       "      <td>17.1</td>\n",
       "      <td>...</td>\n",
       "      <td>4.61</td>\n",
       "      <td>NaN</td>\n",
       "      <td>NaN</td>\n",
       "      <td>NaN</td>\n",
       "      <td>0.6</td>\n",
       "      <td>2.1</td>\n",
       "      <td>2016-01-01</td>\n",
       "      <td>200</td>\n",
       "      <td>success</td>\n",
       "      <td>108</td>\n",
       "    </tr>\n",
       "    <tr>\n",
       "      <th>1</th>\n",
       "      <td>2.1</td>\n",
       "      <td>2.3</td>\n",
       "      <td>2.4</td>\n",
       "      <td>2.8</td>\n",
       "      <td>7.1</td>\n",
       "      <td>3.7</td>\n",
       "      <td>7.2</td>\n",
       "      <td>9.9</td>\n",
       "      <td>15.5</td>\n",
       "      <td>17.1</td>\n",
       "      <td>...</td>\n",
       "      <td>4.50</td>\n",
       "      <td>NaN</td>\n",
       "      <td>NaN</td>\n",
       "      <td>NaN</td>\n",
       "      <td>0.3</td>\n",
       "      <td>3.6</td>\n",
       "      <td>2016-01-02</td>\n",
       "      <td>200</td>\n",
       "      <td>success</td>\n",
       "      <td>108</td>\n",
       "    </tr>\n",
       "    <tr>\n",
       "      <th>2</th>\n",
       "      <td>4.2</td>\n",
       "      <td>4.0</td>\n",
       "      <td>3.7</td>\n",
       "      <td>4.9</td>\n",
       "      <td>7.5</td>\n",
       "      <td>4.2</td>\n",
       "      <td>7.1</td>\n",
       "      <td>9.7</td>\n",
       "      <td>15.4</td>\n",
       "      <td>17.0</td>\n",
       "      <td>...</td>\n",
       "      <td>4.85</td>\n",
       "      <td>NaN</td>\n",
       "      <td>NaN</td>\n",
       "      <td>NaN</td>\n",
       "      <td>0.3</td>\n",
       "      <td>2.2</td>\n",
       "      <td>2016-01-03</td>\n",
       "      <td>200</td>\n",
       "      <td>success</td>\n",
       "      <td>108</td>\n",
       "    </tr>\n",
       "    <tr>\n",
       "      <th>3</th>\n",
       "      <td>3.7</td>\n",
       "      <td>4.4</td>\n",
       "      <td>4.3</td>\n",
       "      <td>3.3</td>\n",
       "      <td>2.5</td>\n",
       "      <td>4.9</td>\n",
       "      <td>7.1</td>\n",
       "      <td>9.6</td>\n",
       "      <td>15.3</td>\n",
       "      <td>17.0</td>\n",
       "      <td>...</td>\n",
       "      <td>9.03</td>\n",
       "      <td>NaN</td>\n",
       "      <td>NaN</td>\n",
       "      <td>NaN</td>\n",
       "      <td>1.7</td>\n",
       "      <td>8.6</td>\n",
       "      <td>2016-01-04</td>\n",
       "      <td>200</td>\n",
       "      <td>success</td>\n",
       "      <td>108</td>\n",
       "    </tr>\n",
       "    <tr>\n",
       "      <th>4</th>\n",
       "      <td>1.4</td>\n",
       "      <td>3.0</td>\n",
       "      <td>3.6</td>\n",
       "      <td>-0.1</td>\n",
       "      <td>0.1</td>\n",
       "      <td>4.8</td>\n",
       "      <td>7.2</td>\n",
       "      <td>9.5</td>\n",
       "      <td>15.2</td>\n",
       "      <td>17.0</td>\n",
       "      <td>...</td>\n",
       "      <td>8.22</td>\n",
       "      <td>NaN</td>\n",
       "      <td>NaN</td>\n",
       "      <td>NaN</td>\n",
       "      <td>1.8</td>\n",
       "      <td>7.9</td>\n",
       "      <td>2016-01-05</td>\n",
       "      <td>200</td>\n",
       "      <td>success</td>\n",
       "      <td>108</td>\n",
       "    </tr>\n",
       "  </tbody>\n",
       "</table>\n",
       "<p>5 rows × 66 columns</p>\n",
       "</div>"
      ],
      "text/plain": [
       "   AVG_CM10_TE  AVG_CM20_TE  AVG_CM30_TE  AVG_CM5_TE  AVG_LMAC  AVG_M0_5_TE  \\\n",
       "0          0.3          1.5          2.0         0.1       7.0          3.7   \n",
       "1          2.1          2.3          2.4         2.8       7.1          3.7   \n",
       "2          4.2          4.0          3.7         4.9       7.5          4.2   \n",
       "3          3.7          4.4          4.3         3.3       2.5          4.9   \n",
       "4          1.4          3.0          3.6        -0.1       0.1          4.8   \n",
       "\n",
       "   AVG_M1_0_TE  AVG_M1_5_TE  AVG_M3_0_TE  AVG_M5_0_TE      ...        SUM_GSR  \\\n",
       "0          7.3         10.0         15.5         17.1      ...           4.61   \n",
       "1          7.2          9.9         15.5         17.1      ...           4.50   \n",
       "2          7.1          9.7         15.4         17.0      ...           4.85   \n",
       "3          7.1          9.6         15.3         17.0      ...           9.03   \n",
       "4          7.2          9.5         15.2         17.0      ...           8.22   \n",
       "\n",
       "   SUM_LRG_EV  SUM_RN  SUM_RN_DUR  SUM_SML_EV  SUM_SS_HR          TM  \\\n",
       "0         NaN     NaN         NaN         0.6        2.1  2016-01-01   \n",
       "1         NaN     NaN         NaN         0.3        3.6  2016-01-02   \n",
       "2         NaN     NaN         NaN         0.3        2.2  2016-01-03   \n",
       "3         NaN     NaN         NaN         1.7        8.6  2016-01-04   \n",
       "4         NaN     NaN         NaN         1.8        7.9  2016-01-05   \n",
       "\n",
       "   seoul_httpcd  seoul_status  seoul_station  \n",
       "0           200       success            108  \n",
       "1           200       success            108  \n",
       "2           200       success            108  \n",
       "3           200       success            108  \n",
       "4           200       success            108  \n",
       "\n",
       "[5 rows x 66 columns]"
      ]
     },
     "execution_count": 63,
     "metadata": {},
     "output_type": "execute_result"
    }
   ],
   "source": [
    "# UNION ALL\n",
    "sql = '''\n",
    "    select *\n",
    "      from seoul_df\n",
    "    union all\n",
    "    select *\n",
    "      from seoul_df2\n",
    "'''\n",
    "seoul_df = ps.sqldf(sql)\n",
    "print('Seoul_df Rows :', seoul_df.shape[0], 'Columns :', seoul_df.shape[1])\n",
    "seoul_df.head()"
   ]
  },
  {
   "cell_type": "code",
   "execution_count": null,
   "metadata": {},
   "outputs": [],
   "source": []
  },
  {
   "cell_type": "code",
   "execution_count": null,
   "metadata": {},
   "outputs": [],
   "source": []
  },
  {
   "cell_type": "code",
   "execution_count": null,
   "metadata": {},
   "outputs": [],
   "source": []
  },
  {
   "cell_type": "code",
   "execution_count": null,
   "metadata": {},
   "outputs": [],
   "source": []
  }
 ],
 "metadata": {
  "hide_input": false,
  "kernelspec": {
   "display_name": "Python 3",
   "language": "python",
   "name": "python3"
  },
  "language_info": {
   "codemirror_mode": {
    "name": "ipython",
    "version": 3
   },
   "file_extension": ".py",
   "mimetype": "text/x-python",
   "name": "python",
   "nbconvert_exporter": "python",
   "pygments_lexer": "ipython3",
   "version": "3.7.1"
  },
  "toc": {
   "base_numbering": 1,
   "nav_menu": {},
   "number_sections": true,
   "sideBar": true,
   "skip_h1_title": false,
   "title_cell": "Table of Contents",
   "title_sidebar": "Contents",
   "toc_cell": false,
   "toc_position": {},
   "toc_section_display": true,
   "toc_window_display": false
  }
 },
 "nbformat": 4,
 "nbformat_minor": 2
}
